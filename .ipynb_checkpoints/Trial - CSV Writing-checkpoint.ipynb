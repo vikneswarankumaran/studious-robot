{
 "cells": [
  {
   "cell_type": "markdown",
   "metadata": {},
   "source": [
    "# Problem 2"
   ]
  },
  {
   "cell_type": "code",
   "execution_count": 3,
   "metadata": {},
   "outputs": [],
   "source": [
    "import csv\n",
    "import os"
   ]
  },
  {
   "cell_type": "code",
   "execution_count": 4,
   "metadata": {},
   "outputs": [],
   "source": [
    "fieldnames = [\"name of file\", \"image_url\"]\n",
    "os.chdir(r'''C:\\Users\\hyper\\Desktop\\JSEPA''')\n",
    "\n",
    "for each_file in os.listdir():\n",
    "    \n",
    "    results = []\n",
    "    \n",
    "    with open(str(each_file), \"r\") as read_file:\n",
    "        reader = csv.DictReader(read_file, fieldnames = fieldnames)\n",
    "        for each_row in reader:\n",
    "            results.append(each_row)\n",
    "\n",
    "    with open(str(each_file), \"w\", newline=\"\") as write_file:\n",
    "        writer = csv.DictWriter(write_file, fieldnames = fieldnames)\n",
    "        writer.writeheader() #writes out the header rows to the csv file.\n",
    "        for each_row in results:\n",
    "            writer.writerow(each_row)"
   ]
  },
  {
   "cell_type": "code",
   "execution_count": 5,
   "metadata": {},
   "outputs": [],
   "source": [
    "# fieldnames = [\"name of file\", \"image_url\"]\n",
    "# results = []\n",
    "\n",
    "# with open(\"tps_report.csv\", \"r\") as read_file:\n",
    "#     reader = csv.DictReader(read_file, fieldnames = fieldnames)\n",
    "#     for each_row in reader:\n",
    "#         results.append(each_row)\n",
    "\n",
    "# # print(results)\n",
    "\n",
    "# with open(\"tps_report.csv\", \"w\", newline=\"\") as write_file:\n",
    "#     writer = csv.DictWriter(write_file, fieldnames = fieldnames)\n",
    "#     writer.writeheader() #writes out the header rows to the csv file.\n",
    "#     for each_row in results:\n",
    "#         writer.writerow(each_row)"
   ]
  },
  {
   "cell_type": "code",
   "execution_count": 6,
   "metadata": {},
   "outputs": [],
   "source": [
    "# fieldnames = [\"name of file\", \"image_url\"]\n",
    "# results = []\n",
    "# dictionaries_in_list = []\n",
    "\n",
    "# with open(\"tps_report.csv\", \"r\") as read_file:\n",
    "#     reader = csv.reader(read_file)\n",
    "#     for each_row in reader:\n",
    "#         results.append(each_row)\n",
    "        \n",
    "# for each_list in results:\n",
    "#     dictionaries_in_list.append({\"name of file\": each_list[0], \"image_url\": each_list[1]})\n",
    "\n",
    "# with open(\"tps_report.csv\", \"w\", newline=\"\") as write_file:\n",
    "#     writer = csv.DictWriter(write_file, fieldnames = fieldnames)\n",
    "#     writer.writeheader() #writes out the header rows to the csv file.\n",
    "#     for each_dictionary in dictionaries_in_list:\n",
    "#         writer.writerow(each_dictionary)"
   ]
  },
  {
   "cell_type": "code",
   "execution_count": null,
   "metadata": {},
   "outputs": [],
   "source": []
  },
  {
   "cell_type": "code",
   "execution_count": null,
   "metadata": {},
   "outputs": [],
   "source": []
  },
  {
   "cell_type": "code",
   "execution_count": null,
   "metadata": {},
   "outputs": [],
   "source": []
  },
  {
   "cell_type": "code",
   "execution_count": null,
   "metadata": {},
   "outputs": [],
   "source": []
  },
  {
   "cell_type": "code",
   "execution_count": null,
   "metadata": {},
   "outputs": [],
   "source": []
  },
  {
   "cell_type": "code",
   "execution_count": null,
   "metadata": {},
   "outputs": [],
   "source": []
  }
 ],
 "metadata": {
  "kernelspec": {
   "display_name": "Python 3",
   "language": "python",
   "name": "python3"
  },
  "language_info": {
   "codemirror_mode": {
    "name": "ipython",
    "version": 3
   },
   "file_extension": ".py",
   "mimetype": "text/x-python",
   "name": "python",
   "nbconvert_exporter": "python",
   "pygments_lexer": "ipython3",
   "version": "3.6.5"
  }
 },
 "nbformat": 4,
 "nbformat_minor": 2
}

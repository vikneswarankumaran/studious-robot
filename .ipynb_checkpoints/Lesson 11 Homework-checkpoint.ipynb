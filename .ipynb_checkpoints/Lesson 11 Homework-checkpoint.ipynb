{
 "cells": [
  {
   "cell_type": "code",
   "execution_count": null,
   "metadata": {},
   "outputs": [],
   "source": [
    "import random\n",
    "\n",
    "answer = random.randint(0, 100)\n",
    "\n",
    "print(answer)"
   ]
  },
  {
   "cell_type": "code",
   "execution_count": null,
   "metadata": {},
   "outputs": [],
   "source": [
    "print(\"I'm thinking of a number between 1 and 10.\")\n",
    "\n",
    "user_guess = int(input(\"Please guess what it is: \"))"
   ]
  },
  {
   "cell_type": "code",
   "execution_count": null,
   "metadata": {},
   "outputs": [],
   "source": [
    "while user_guess != answer:\n",
    "    if user_guess > answer:\n",
    "        print(\"That is too high!\")\n",
    "        user_guess = int(input(\"Please guess again: \"))\n",
    "    if user_guess < answer:\n",
    "        print(\"That is too low!\")\n",
    "        user_guess = int(input(\"Please guess again: \"))\n",
    "\n",
    "print(\"That's it. You win!\")"
   ]
  },
  {
   "cell_type": "code",
   "execution_count": null,
   "metadata": {},
   "outputs": [],
   "source": []
  }
 ],
 "metadata": {
  "kernelspec": {
   "display_name": "Python 3",
   "language": "python",
   "name": "python3"
  },
  "language_info": {
   "codemirror_mode": {
    "name": "ipython",
    "version": 3
   },
   "file_extension": ".py",
   "mimetype": "text/x-python",
   "name": "python",
   "nbconvert_exporter": "python",
   "pygments_lexer": "ipython3",
   "version": "3.6.5"
  }
 },
 "nbformat": 4,
 "nbformat_minor": 2
}
